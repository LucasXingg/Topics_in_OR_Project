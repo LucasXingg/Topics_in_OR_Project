{
 "cells": [
  {
   "cell_type": "code",
   "execution_count": 2,
   "id": "402b1a0e-e50a-491f-8f10-4f8138c412fb",
   "metadata": {},
   "outputs": [],
   "source": [
    "import pandas as pd\n",
    "import itertools\n",
    "import numpy as np\n",
    "import random\n",
    "import matplotlib.pyplot as plt"
   ]
  },
  {
   "cell_type": "code",
   "execution_count": 3,
   "id": "862fe72d-b818-4b08-929c-3494a176b3cc",
   "metadata": {},
   "outputs": [],
   "source": [
    "# model.Params.OutputFlag = 1  # Enable Gurobi output\n",
    "# model.Params.LogToConsole = 1  # Ensure logs are printed\n",
    "# model.Params.DisplayInterval = 1  # Show progress every second"
   ]
  },
  {
   "cell_type": "code",
   "execution_count": 4,
   "id": "c3dcd469-9193-4094-89d7-04597ad806af",
   "metadata": {},
   "outputs": [
    {
     "data": {
      "text/html": [
       "<div>\n",
       "<style scoped>\n",
       "    .dataframe tbody tr th:only-of-type {\n",
       "        vertical-align: middle;\n",
       "    }\n",
       "\n",
       "    .dataframe tbody tr th {\n",
       "        vertical-align: top;\n",
       "    }\n",
       "\n",
       "    .dataframe thead th {\n",
       "        text-align: right;\n",
       "    }\n",
       "</style>\n",
       "<table border=\"1\" class=\"dataframe\">\n",
       "  <thead>\n",
       "    <tr style=\"text-align: right;\">\n",
       "      <th></th>\n",
       "      <th>ORs</th>\n",
       "      <th>Weekday</th>\n",
       "      <th>Week Number</th>\n",
       "      <th>Block</th>\n",
       "      <th>Beds</th>\n",
       "      <th>Surgeon ID</th>\n",
       "      <th>Service ID</th>\n",
       "    </tr>\n",
       "  </thead>\n",
       "  <tbody>\n",
       "    <tr>\n",
       "      <th>0</th>\n",
       "      <td>1</td>\n",
       "      <td>1</td>\n",
       "      <td>1</td>\n",
       "      <td>(d1,o1)</td>\n",
       "      <td>5</td>\n",
       "      <td>13</td>\n",
       "      <td>0</td>\n",
       "    </tr>\n",
       "    <tr>\n",
       "      <th>1</th>\n",
       "      <td>1</td>\n",
       "      <td>1</td>\n",
       "      <td>2</td>\n",
       "      <td>(d1,o1)</td>\n",
       "      <td>6</td>\n",
       "      <td>42</td>\n",
       "      <td>2</td>\n",
       "    </tr>\n",
       "    <tr>\n",
       "      <th>2</th>\n",
       "      <td>1</td>\n",
       "      <td>1</td>\n",
       "      <td>3</td>\n",
       "      <td>(d1,o1)</td>\n",
       "      <td>6</td>\n",
       "      <td>98</td>\n",
       "      <td>4</td>\n",
       "    </tr>\n",
       "    <tr>\n",
       "      <th>3</th>\n",
       "      <td>1</td>\n",
       "      <td>1</td>\n",
       "      <td>4</td>\n",
       "      <td>(d1,o1)</td>\n",
       "      <td>7</td>\n",
       "      <td>12</td>\n",
       "      <td>0</td>\n",
       "    </tr>\n",
       "    <tr>\n",
       "      <th>4</th>\n",
       "      <td>1</td>\n",
       "      <td>2</td>\n",
       "      <td>1</td>\n",
       "      <td>(d2,o1)</td>\n",
       "      <td>7</td>\n",
       "      <td>46</td>\n",
       "      <td>2</td>\n",
       "    </tr>\n",
       "  </tbody>\n",
       "</table>\n",
       "</div>"
      ],
      "text/plain": [
       "   ORs  Weekday  Week Number    Block  Beds  Surgeon ID  Service ID\n",
       "0    1        1            1  (d1,o1)     5          13           0\n",
       "1    1        1            2  (d1,o1)     6          42           2\n",
       "2    1        1            3  (d1,o1)     6          98           4\n",
       "3    1        1            4  (d1,o1)     7          12           0\n",
       "4    1        2            1  (d2,o1)     7          46           2"
      ]
     },
     "execution_count": 4,
     "metadata": {},
     "output_type": "execute_result"
    }
   ],
   "source": [
    "df = pd.read_csv('dataset.csv')\n",
    "m = df.shape[0]\n",
    "df.head()"
   ]
  },
  {
   "cell_type": "code",
   "execution_count": 5,
   "id": "f14c0e86-d689-4089-a1ac-8b301e3bf451",
   "metadata": {},
   "outputs": [],
   "source": [
    "def getDay(b):\n",
    "    day = b.split('d')[1][0]\n",
    "    return int(day)"
   ]
  },
  {
   "cell_type": "code",
   "execution_count": 6,
   "id": "38a33c3c-6f27-471c-a9ff-9338916c1192",
   "metadata": {},
   "outputs": [],
   "source": [
    "def cases(b):\n",
    "    line = df[(df['Block'] == b)]\n",
    "    return list(line['Beds'])"
   ]
  },
  {
   "cell_type": "code",
   "execution_count": 7,
   "id": "3f08b44b-6c40-4916-b2c9-9ea4e2bf5bd6",
   "metadata": {},
   "outputs": [],
   "source": [
    "def alloc(b, v):\n",
    "    line = df[(df['Block'] == b) & (df['Service ID'] == v)]\n",
    "    return len(line)"
   ]
  },
  {
   "cell_type": "code",
   "execution_count": 8,
   "id": "388c0cf4-8ee9-4b11-b2b2-019d5b7045be",
   "metadata": {},
   "outputs": [],
   "source": [
    "# def Di(b, w, s):\n",
    "#     line = df[(df['Block'] == b) & (df['Week Number'] == w)]\n",
    "#     return line['Surgeon ID'] == s"
   ]
  },
  {
   "cell_type": "code",
   "execution_count": 9,
   "id": "f1809295-7f72-4f84-b38c-8c0ac29ba212",
   "metadata": {},
   "outputs": [],
   "source": [
    "def Di(b, w, s):\n",
    "    line = df[(df['Block'] == b) & (df['Week Number'] == w) & (df['Surgeon ID'] == s)]\n",
    "    return not line.empty  # Returns True if at least one row exists\n"
   ]
  },
  {
   "cell_type": "code",
   "execution_count": 10,
   "id": "bf1d93a2-3b33-491d-ab51-25ddbdef95e6",
   "metadata": {},
   "outputs": [
    {
     "data": {
      "text/plain": [
       "True"
      ]
     },
     "execution_count": 10,
     "metadata": {},
     "output_type": "execute_result"
    }
   ],
   "source": [
    "Di('(d1,o1)',2,42)"
   ]
  },
  {
   "cell_type": "code",
   "execution_count": null,
   "id": "55b32b9b-a260-4656-a70a-a6bcd924d095",
   "metadata": {},
   "outputs": [
    {
     "name": "stdout",
     "output_type": "stream",
     "text": [
      "Set parameter Username\n",
      "Academic license - for non-commercial use only - expires 2025-11-24\n"
     ]
    }
   ],
   "source": [
    "import gurobipy as gp\n",
    "from gurobipy import GRB\n",
    "\n",
    "# Define sets\n",
    "W = df['Weekday'].unique()            #weekday\n",
    "N = df['Week Number'].unique()        #OR\n",
    "O = df['ORs'].unique()                #OR\n",
    "B = df['Block'].unique()              #Block\n",
    "S = df['Surgeon ID'].unique()         #Surgeon\n",
    "V = df['Service ID'].unique()         #Service\n",
    "\n",
    "l_v = [0,0,0,0,0]                     # lower bound for each service\n",
    "u_v = [150,150,150,150,150]           # upper bound for each service\n",
    "\n",
    "\n",
    "\n",
    "F = ['1']\n",
    "peak = 338\n",
    "\n",
    "# Create a new model\n",
    "model = gp.Model(\"OR opt\")\n",
    "\n",
    "# Define decision variables\n",
    "x_p = model.addVars(B, B, vtype=GRB.BINARY, name=\"x_p\")  # Allowed Moves\n",
    "z = model.addVars(F, vtype=GRB.INTEGER, name=\"z\")\n",
    "\n",
    "summed_values = model.addVars(W, N, vtype=GRB.INTEGER, name=\"sum_var\") # Total bed counts for weekday d in week i\n",
    "\n",
    "\n",
    "# Define constraint\n",
    "\n",
    "# Additional (not from original paper)\n",
    "\n",
    "for b1 in B:  # This constraint makes sure that each block can only move to one place\n",
    "    model.addConstr(gp.quicksum(x_p[b1,b2] for b2 in B) == 1)\n",
    "\n",
    "# (2)\n",
    "\n",
    "for b2 in B:\n",
    "    model.addConstr(gp.quicksum(x_p[b1,b2] for b1 in B) == 1)\n",
    "\n",
    "# (3)\n",
    "\n",
    "for f in F:\n",
    "    for d in W: # Weekday\n",
    "        for i in N:\n",
    "            model.addConstr(gp.quicksum(cases(b1)[i-1] * x_p[b1, b2] for b1 in B for b2 in B if getDay(b2) == d) == summed_values[d, i])\n",
    "        for i in N:\n",
    "            model.addConstr(summed_values[d, i] <= z[f])\n",
    "\n",
    "# (4)\n",
    "\n",
    "for s in S:\n",
    "    for i in N:\n",
    "        for d in W:\n",
    "\n",
    "            model.addConstr(gp.quicksum(x_p[b1,b2] for b1 in B for b2 in B if getDay(b2) == d and Di(b1, i, s)) <= 1)\n",
    "\n",
    "# (5)\n",
    "\n",
    "for v in V:\n",
    "    for d in W:\n",
    "        model.addConstr(gp.quicksum(alloc(b1, v) * x_p[b1, b2] for b1 in B for b2 in B if getDay(b2) == d) <= u_v[v])\n",
    "        model.addConstr(gp.quicksum(alloc(b1, v) * x_p[b1, b2] for b1 in B for b2 in B if getDay(b2) == d) >= l_v[v])\n",
    "\n",
    "\n",
    "model.setObjective(sum(peak - z[f] for f in F), GRB.MAXIMIZE)\n",
    "\n",
    "# Optimize the model\n",
    "model.optimize()"
   ]
  },
  {
   "cell_type": "code",
   "execution_count": null,
   "id": "658d5e47-d0b9-4d22-b3f4-496f402fca09",
   "metadata": {},
   "outputs": [],
   "source": [
    "# Print result\n",
    "if model.status == GRB.OPTIMAL:\n",
    "    print(\"\\nOptimal Solution Found!\")\n",
    "\n",
    "    # Print z values\n",
    "    print(\"\\nOptimal values for z:\")\n",
    "    for f in F:\n",
    "        print(f\"z[{f}] = {z[f].x}\")\n",
    "\n",
    "    print(\"\\nOptimal moves (x_p):\")\n",
    "    for d in W:\n",
    "        for i in N:\n",
    "            print(f\"sum_value[{d}, {i}] = {summed_values[d, i].x}\")\n",
    "\n",
    "    # Print x_p values where x_p[b1, b2] = 1 (i.e., movement occurs)\n",
    "    print(\"\\nOptimal moves (x_p):\")\n",
    "    for b1 in B:\n",
    "        for b2 in B:\n",
    "            if x_p[b1, b2].x > 0.5:  # Binary, so check if it's 1\n",
    "                print(f\"x_p[{b1}, {b2}] = {int(x_p[b1, b2].x)}\")\n",
    "else:\n",
    "    print(\"\\nNo optimal solution found.\")"
   ]
  },
  {
   "cell_type": "markdown",
   "id": "bf522b19-95a6-4b84-8fa6-31b903265d08",
   "metadata": {},
   "source": [
    "# Get Result"
   ]
  },
  {
   "cell_type": "code",
   "execution_count": null,
   "id": "3ce739e9-24e5-466d-9135-ed61ae43e09d",
   "metadata": {},
   "outputs": [],
   "source": [
    "def casesWeek(b):\n",
    "    line = df[(df['Block'] == b)]\n",
    "    return list(line['Beds']), list(line['Week Number'])\n",
    "\n",
    "cases('(d2,o4)')"
   ]
  },
  {
   "cell_type": "code",
   "execution_count": 15,
   "id": "a3e0180a-49ed-44f7-86c1-e2f343a8dfc9",
   "metadata": {},
   "outputs": [],
   "source": [
    "def getDayOR(b):\n",
    "    day = b.split('d')[1][0]\n",
    "    room = b.split('o')[1][0]\n",
    "    return int(day), int(room)\n",
    "\n",
    "# getDayOR('(d2,o4)')"
   ]
  },
  {
   "cell_type": "code",
   "execution_count": 16,
   "id": "4f7441c7-6cc9-405f-9ff1-def33ec9d16d",
   "metadata": {},
   "outputs": [],
   "source": [
    "# Apply rearrangement\n",
    "df_rearrange = df.copy()\n",
    "\n",
    "rearrangements = []\n",
    "new_bed = np.zeros(m, dtype='int')\n",
    "\n",
    "for b1 in B:\n",
    "    for b2 in B:\n",
    "        if x_p[b1, b2].x > 0.5:  # Binary, so check if it's 1\n",
    "            # Log all pairs of b1 and b2\n",
    "            rearrangements.append([b1,b2])\n",
    "\n",
    "# Moving beds value from original dataset to new dataset according to resulting moves.\n",
    "for bs in rearrangements:\n",
    "    b1 = bs[0]\n",
    "    b2 = bs[1]\n",
    "    bed, week_num = casesWeek(b1)\n",
    "    d2, o2 = getDayOR(b2)\n",
    "    for i in range(4):\n",
    "        line_idx = df[(df['Block'] == b2) & (df['Week Number'] == week_num[i])].index\n",
    "        new_bed[line_idx[0]] = bed[i]\n",
    "\n",
    "df_rearrange['Beds'] = new_bed"
   ]
  },
  {
   "cell_type": "code",
   "execution_count": 17,
   "id": "c1f6e6c6-8cf5-4d70-8907-10ddfbb06617",
   "metadata": {},
   "outputs": [
    {
     "data": {
      "image/png": "[encoded data removed]",
      "text/plain": [
       "<Figure size 800x800 with 1 Axes>"
      ]
     },
     "metadata": {},
     "output_type": "display_data"
    }
   ],
   "source": [
    "week = 1\n",
    "weekn = df['Week Number'] == week\n",
    "weekn\n",
    "df_weekn = df[weekn]\n",
    "df_weekn\n",
    "\n",
    "weekday_daycount = []\n",
    "for d in range(1, 8):\n",
    "    day_count = df_weekn[df_weekn['Weekday'] == d]['Beds'].sum()\n",
    "    weekday_daycount.append(day_count)\n",
    "\n",
    "weekday_daycount\n",
    "\n",
    "weekn_re = df_rearrange['Week Number'] == week\n",
    "df_weekn_re = df_rearrange[weekn_re]\n",
    "\n",
    "weekday_daycount_re = []\n",
    "for d in range(1, 8):\n",
    "    day_count = df_weekn_re[df_weekn_re['Weekday'] == d]['Beds'].sum()\n",
    "    weekday_daycount_re.append(day_count)\n",
    "\n",
    "\n",
    "\n",
    "# Define labels for better readability\n",
    "day_labels = [\"Monday\", \"Tuesday\", \"Wednesday\", \"Thursday\", \"Friday\", \"Saturday\", \"Sunday\"]\n",
    "\n",
    "# Count occurrences of each day\n",
    "day_counts = weekday_daycount\n",
    "day_counts_re = weekday_daycount_re\n",
    "\n",
    "# Plot using Matplotlib\n",
    "plt.figure(figsize=(8, 8))\n",
    "plt.plot(range(7), day_counts, label='Current census')\n",
    "plt.plot(range(7), day_counts_re, label='Permuted census')\n",
    "\n",
    "# Set labels\n",
    "plt.xticks(ticks=range(7), labels=day_labels, rotation=45)\n",
    "plt.xlabel(\"Day of the Week\")\n",
    "plt.ylabel(\"Beds\")\n",
    "plt.ylim(250, 350)\n",
    "plt.legend()\n",
    "\n",
    "# Show plot\n",
    "plt.show()"
   ]
  },
  {
   "cell_type": "code",
   "execution_count": null,
   "id": "7ff2e4ca-36c7-4893-ae66-aba505514bf5",
   "metadata": {},
   "outputs": [],
   "source": []
  },
  {
   "cell_type": "code",
   "execution_count": null,
   "id": "f479af61-03e4-4b63-a9e8-58e2e84ff7f5",
   "metadata": {},
   "outputs": [],
   "source": []
  },
  {
   "cell_type": "code",
   "execution_count": null,
   "id": "775c62b7-6cf1-4b37-a73a-f18f5f48002d",
   "metadata": {},
   "outputs": [],
   "source": []
  }
 ],
 "metadata": {
  "kernelspec": {
   "display_name": "Python 3 (ipykernel)",
   "language": "python",
   "name": "python3"
  },
  "language_info": {
   "codemirror_mode": {
    "name": "ipython",
    "version": 3
   },
   "file_extension": ".py",
   "mimetype": "text/x-python",
   "name": "python",
   "nbconvert_exporter": "python",
   "pygments_lexer": "ipython3",
   "version": "3.12.7"
  }
 },
 "nbformat": 4,
 "nbformat_minor": 5
}
