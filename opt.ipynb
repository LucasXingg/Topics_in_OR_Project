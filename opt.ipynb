{
 "cells": [
  {
   "cell_type": "code",
   "execution_count": 1,
   "id": "402b1a0e-e50a-491f-8f10-4f8138c412fb",
   "metadata": {},
   "outputs": [],
   "source": [
    "from scripts.utils import utils\n",
    "from scripts.model import OR_model\n",
    "from scripts.resultData import ResultData\n",
    "\n",
    "import pandas as pd\n",
    "import itertools\n",
    "import numpy as np\n",
    "import matplotlib.pyplot as plt\n",
    "import time\n",
    "import gurobipy as gp\n",
    "from gurobipy import GRB"
   ]
  },
  {
   "cell_type": "code",
   "execution_count": 2,
   "id": "7ff2e4ca-36c7-4893-ae66-aba505514bf5",
   "metadata": {},
   "outputs": [],
   "source": [
    "def readData(pre=True):\n",
    "    print(\"\\n\\n\", \"-\"*10, \"Reading data\", \"-\"*10)\n",
    "    df = pd.read_csv('dataset.csv')\n",
    "\n",
    "    print(\"Data size:\", df.shape)\n",
    "\n",
    "    print(\"\\n\\n\", \"-\"*10, \"Do precalculations\", \"-\"*10)\n",
    "    start = time.time()\n",
    "\n",
    "    utils_ = utils(df, pre=pre)\n",
    "\n",
    "    print(f\"Finish, uses {time.time() - start:.5f} seconds\")\n",
    "\n",
    "    return df, utils_"
   ]
  },
  {
   "cell_type": "code",
   "execution_count": 3,
   "id": "c623230c-8ae4-4cec-a257-e212d32709ba",
   "metadata": {},
   "outputs": [],
   "source": [
    "def getAllowedMoves(df, utils):\n",
    "    B = df['Block'].unique()\n",
    "    P_set = set()\n",
    "\n",
    "    for b1, b2 in itertools.product(B, repeat=2):\n",
    "        o1 = utils.getRoom(b1)\n",
    "        o2 = utils.getRoom(b2)\n",
    "        if abs(o1 - o2) <= 10:\n",
    "            P_set.add((b1,b2))\n",
    "\n",
    "    return list(P_set)"
   ]
  },
  {
   "cell_type": "code",
   "execution_count": 4,
   "id": "3412d1b1",
   "metadata": {},
   "outputs": [],
   "source": [
    "def getAllowedMoves2(df, utils):\n",
    "    P = getAllowedMoves(df, utils)\n",
    "    P_set = set()\n",
    "\n",
    "    weekend_days = {6, 7}      \n",
    "    allowed_weekend_moves = {5, 6, 7}  \n",
    "\n",
    "    for b1, b2 in P:\n",
    "        d1 = utils.getDay(b1)\n",
    "        d2 = utils.getDay(b2)\n",
    "        if (d1 in weekend_days) and not (d2 in allowed_weekend_moves):\n",
    "            continue\n",
    "\n",
    "        P_set.add((b1, b2))\n",
    "\n",
    "    return list(P_set)"
   ]
  },
  {
   "cell_type": "code",
   "execution_count": 5,
   "id": "66ad3a46",
   "metadata": {},
   "outputs": [],
   "source": [
    "def getAllowedMoves3(df, utils):\n",
    "    P = getAllowedMoves(df, utils)\n",
    "    P_set = set()\n",
    "\n",
    "    weekend_days = {6, 7}      \n",
    "    allowed_weekend_moves = {1, 5, 6, 7}  \n",
    "\n",
    "    for b1, b2 in P:\n",
    "        d1 = utils.getDay(b1)\n",
    "        d2 = utils.getDay(b2)\n",
    "        if (d1 in weekend_days) and not (d2 in allowed_weekend_moves):\n",
    "            continue\n",
    "\n",
    "        P_set.add((b1, b2))\n",
    "\n",
    "    return list(P_set)"
   ]
  },
  {
   "cell_type": "code",
   "execution_count": 12,
   "id": "09afaf99",
   "metadata": {},
   "outputs": [],
   "source": [
    "def getAllowedMoves4(df, utils):\n",
    "    P = getAllowedMoves2(df, utils)\n",
    "    P_set = set()\n",
    "\n",
    "    for b1, b2 in P:\n",
    "        d1 = utils.getDay(b1)\n",
    "        d2 = utils.getDay(b2)\n",
    "\n",
    "        surgical_chief = [0,19,39,59,79,99]\n",
    "\n",
    "        surgeon = df[df['Block'] == b1]['Surgeon ID'].values\n",
    "\n",
    "        is_surgical_chief = False\n",
    "        for i in surgical_chief:\n",
    "            if i in surgeon:\n",
    "                is_surgical_chief = True\n",
    "                break\n",
    "        if is_surgical_chief:\n",
    "            P_set.add((b1, b1))\n",
    "\n",
    "        P_set.add((b1, b2))\n",
    "\n",
    "    return list(P_set)"
   ]
  },
  {
   "cell_type": "code",
   "execution_count": 8,
   "id": "2c3f239b",
   "metadata": {},
   "outputs": [
    {
     "name": "stdout",
     "output_type": "stream",
     "text": [
      "\n",
      "\n",
      " ---------- Reading data ----------\n",
      "Data size: (1456, 7)\n",
      "\n",
      "\n",
      " ---------- Do precalculations ----------\n",
      "Finish, uses 24.80696 seconds\n"
     ]
    }
   ],
   "source": [
    "df, utils_ = readData(pre=True)"
   ]
  },
  {
   "cell_type": "code",
   "execution_count": 13,
   "id": "75cd6aef-2a86-4527-a5d0-05515b91c24d",
   "metadata": {},
   "outputs": [],
   "source": [
    "P = getAllowedMoves4(df, utils_)\n",
    "\n",
    "# Hyperparameters\n",
    "F = ['1']\n",
    "l_v = [0,0,0,0,0]\n",
    "u_v = [47,47,47,47,47]"
   ]
  },
  {
   "cell_type": "code",
   "execution_count": 14,
   "id": "f479af61-03e4-4b63-a9e8-58e2e84ff7f5",
   "metadata": {},
   "outputs": [
    {
     "name": "stdout",
     "output_type": "stream",
     "text": [
      "\n",
      "\n",
      " ---------- Creating model ----------\n",
      "New model created successfully.\n",
      "\n",
      "\n",
      " ---------- Reading sets from df and precompute ----------\n",
      "Finish, uses 0.00077 seconds\n",
      "\n",
      "\n",
      " ---------- Setting decision variables ----------\n",
      "Finish, uses 0.08733 seconds\n",
      "\n",
      "\n",
      " ---------- Setting constraints ----------\n",
      "Setting additional constraints\n",
      "Finish, uses 1.17693 seconds\n",
      "Setting constraints (2)\n",
      "Finish, uses 1.14924 seconds\n",
      "Setting constraints (3)\n",
      "Finish, uses 18.80039 seconds\n",
      "Setting constraints (4)\n",
      "Finish, uses 29.95646 seconds\n",
      "Setting constraints (5)\n",
      "Finish, uses 57.75779 seconds\n",
      "---------- Setting objection ----------\n",
      "Finish, uses 0.00108 seconds\n",
      "\n",
      "\n",
      " ---------- Optimizing ----------\n",
      "Gurobi Optimizer version 11.0.3 build v11.0.3rc0 (mac64[arm] - Darwin 24.3.0 24D81)\n",
      "\n",
      "CPU model: Apple M1 Pro\n",
      "Thread count: 10 physical cores, 10 logical processors, using up to 10 threads\n",
      "\n",
      "Optimize a model with 3654 rows, 40291 columns and 635928 nonzeros\n",
      "Model fingerprint: 0xe33e224d\n",
      "Variable types: 0 continuous, 40291 integer (40262 binary)\n",
      "Coefficient statistics:\n",
      "  Matrix range     [1e+00, 9e+00]\n",
      "  Objective range  [1e+00, 1e+00]\n",
      "  Bounds range     [1e+00, 1e+00]\n",
      "  RHS range        [1e+00, 5e+01]\n",
      "Presolve removed 397 rows and 8 columns\n",
      "Presolve time: 0.60s\n",
      "Presolved: 3257 rows, 40283 columns, 463975 nonzeros\n",
      "Variable types: 0 continuous, 40283 integer (40262 binary)\n",
      "Deterministic concurrent LP optimizer: primal and dual simplex\n",
      "Showing primal log only...\n",
      "\n",
      "Concurrent spin time: 0.03s\n",
      "\n",
      "Solved with dual simplex\n",
      "\n",
      "Use crossover to convert LP symmetric solution to basic solution...\n",
      "\n",
      "Root relaxation: objective 1.768750e+01, 2986 iterations, 0.43 seconds (0.69 work units)\n",
      "Total elapsed time = 7.42s (DegenMoves)\n",
      "Total elapsed time = 13.44s (DegenMoves)\n",
      "Total elapsed time = 19.29s (DegenMoves)\n",
      "Total elapsed time = 25.52s (DegenMoves)\n",
      "\n",
      "    Nodes    |    Current Node    |     Objective Bounds      |     Work\n",
      " Expl Unexpl |  Obj  Depth IntInf | Incumbent    BestBd   Gap | It/Node Time\n",
      "\n",
      "     0     0   17.68750    0  994          -   17.68750      -     -   32s\n",
      "     0     0   17.68750    0 1241          -   17.68750      -     -   37s\n",
      "     0     0   17.00000    0  572          -   17.00000      -     -   86s\n",
      "     0     0   17.00000    0 1035          -   17.00000      -     -   90s\n",
      "H    0     0                      16.0000000   17.00000  6.25%     -   99s\n",
      "     0     0   17.00000    0 1002   16.00000   17.00000  6.25%     -  169s\n",
      "     0     0   17.00000    0  463   16.00000   17.00000  6.25%     -  202s\n",
      "     0     0   17.00000    0 1088   16.00000   17.00000  6.25%     -  204s\n",
      "     0     0   17.00000    0  819   16.00000   17.00000  6.25%     -  232s\n",
      "     0     0   17.00000    0  796   16.00000   17.00000  6.25%     -  233s\n",
      "     0     0   17.00000    0  749   16.00000   17.00000  6.25%     -  262s\n",
      "     0     0   17.00000    0  777   16.00000   17.00000  6.25%     -  263s\n",
      "     0     0   17.00000    0 1072   16.00000   17.00000  6.25%     -  275s\n",
      "H    0     0                      17.0000000   17.00000  0.00%     -  278s\n",
      "     0     0   17.00000    0 1072   17.00000   17.00000  0.00%     -  278s\n",
      "\n",
      "Cutting planes:\n",
      "  Clique: 15\n",
      "  GUB cover: 2\n",
      "\n",
      "Explored 1 nodes (582610 simplex iterations) in 278.85 seconds (438.96 work units)\n",
      "Thread count was 10 (of 10 available processors)\n",
      "\n",
      "Solution count 2: 17 16 \n",
      "\n",
      "Optimal solution found (tolerance 1.00e-04)\n",
      "Best objective 1.700000000000e+01, best bound 1.700000000000e+01, gap 0.0000%\n",
      "Finish, uses 278.86376 seconds\n"
     ]
    }
   ],
   "source": [
    "model = OR_model(df=df, P=P, F=F, l_v=l_v, u_v=u_v, alpha=0, utils=utils_)\n",
    "model.init()\n",
    "model.optimize()"
   ]
  },
  {
   "cell_type": "code",
   "execution_count": 15,
   "id": "f9e37593",
   "metadata": {},
   "outputs": [
    {
     "data": {
      "image/png": "[encoded data removed]",
      "text/plain": [
       "<Figure size 800x800 with 1 Axes>"
      ]
     },
     "metadata": {},
     "output_type": "display_data"
    }
   ],
   "source": [
    "result = model.getResult()\n",
    "result.plot()"
   ]
  },
  {
   "cell_type": "code",
   "execution_count": 16,
   "id": "9a019210",
   "metadata": {},
   "outputs": [],
   "source": [
    "result.save(\"result_P4_a0.csv\")"
   ]
  },
  {
   "cell_type": "code",
   "execution_count": 21,
   "id": "ab769bd7",
   "metadata": {},
   "outputs": [
    {
     "data": {
      "text/plain": [
       "array([13, 42, 98, 12, 46, 85, 59, 84,  6, 80,  8, 41,  5, 63, 82,  0, 83,\n",
       "       66, 11, 45, 94, 56, 40, 69, 90, 28, 61, 50, 72, 25, 29, 62, 87, 37,\n",
       "       33, 76, 54, 75, 58, 15, 81, 86, 22, 79, 10, 35,  9, 43, 68, 31, 65,\n",
       "       51, 24, 26, 52, 16, 71, 34, 18,  2, 48, 17, 27, 44, 49,  1,  3, 23,\n",
       "       93, 92,  4, 21, 89, 96, 95, 97, 14, 32, 38, 20, 78, 67, 73, 91, 53,\n",
       "       39,  7, 99, 55, 64, 60, 47, 57, 77, 74, 88, 19, 36, 30, 70])"
      ]
     },
     "execution_count": 21,
     "metadata": {},
     "output_type": "execute_result"
    }
   ],
   "source": [
    "df['Surgeon ID'].unique()"
   ]
  },
  {
   "cell_type": "code",
   "execution_count": null,
   "id": "be2643ab",
   "metadata": {},
   "outputs": [],
   "source": []
  }
 ],
 "metadata": {
  "kernelspec": {
   "display_name": "gurobi",
   "language": "python",
   "name": "python3"
  },
  "language_info": {
   "codemirror_mode": {
    "name": "ipython",
    "version": 3
   },
   "file_extension": ".py",
   "mimetype": "text/x-python",
   "name": "python",
   "nbconvert_exporter": "python",
   "pygments_lexer": "ipython3",
   "version": "3.12.7"
  }
 },
 "nbformat": 4,
 "nbformat_minor": 5
}
