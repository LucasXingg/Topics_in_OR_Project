{
 "cells": [
  {
   "cell_type": "code",
   "execution_count": 1,
   "id": "402b1a0e-e50a-491f-8f10-4f8138c412fb",
   "metadata": {},
   "outputs": [],
   "source": [
    "from scripts.utils import utils\n",
    "from scripts.model import OR_model\n",
    "from scripts.resultData import ResultData\n",
    "\n",
    "import pandas as pd\n",
    "import itertools\n",
    "import numpy as np\n",
    "import matplotlib.pyplot as plt\n",
    "import time\n",
    "import gurobipy as gp\n",
    "from gurobipy import GRB"
   ]
  },
  {
   "cell_type": "code",
   "execution_count": 2,
   "id": "7ff2e4ca-36c7-4893-ae66-aba505514bf5",
   "metadata": {},
   "outputs": [],
   "source": [
    "def readData(pre=True):\n",
    "    print(\"\\n\\n\", \"-\"*10, \"Reading data\", \"-\"*10)\n",
    "    df = pd.read_csv('dataset.csv')\n",
    "\n",
    "    print(\"Data size:\", df.shape)\n",
    "\n",
    "    print(\"\\n\\n\", \"-\"*10, \"Do precalculations\", \"-\"*10)\n",
    "    start = time.time()\n",
    "\n",
    "    utils_ = utils(df, pre=pre)\n",
    "\n",
    "    print(f\"Finish, uses {time.time() - start:.5f} seconds\")\n",
    "\n",
    "    return df, utils_"
   ]
  },
  {
   "cell_type": "code",
   "execution_count": 3,
   "id": "c623230c-8ae4-4cec-a257-e212d32709ba",
   "metadata": {},
   "outputs": [],
   "source": [
    "def getAllowedMoves(df, utils):\n",
    "    B = df['Block'].unique()\n",
    "    P_set = set()\n",
    "\n",
    "    for b1, b2 in itertools.product(B, repeat=2):\n",
    "        o1 = utils.getRoom(b1)\n",
    "        o2 = utils.getRoom(b2)\n",
    "        if abs(o1 - o2) <= 10:\n",
    "            P_set.add((b1,b2))\n",
    "\n",
    "    return list(P_set)"
   ]
  },
  {
   "cell_type": "code",
   "execution_count": 4,
   "id": "e8c860cf",
   "metadata": {},
   "outputs": [],
   "source": [
    "def getAllowedMoves2(df, utils):\n",
    "    B = df['Block'].unique()\n",
    "    P_set = set()\n",
    "    \n",
    "    weekend_days = {6, 7}      \n",
    "    allowed_weekend_moves = {5, 6, 7}  \n",
    "\n",
    "    for b1, b2 in itertools.product(B, repeat=2):\n",
    "        o1 = utils.getRoom(b1)\n",
    "        o2 = utils.getRoom(b2)\n",
    "        \n",
    "        if abs(o1 - o2) > 10:\n",
    "            continue\n",
    "\n",
    "        d1 = utils.getDay(b1)\n",
    "        d2 = utils.getDay(b2)\n",
    "        \n",
    "        if (d1 in weekend_days or d2 in weekend_days) and not (d1 in allowed_weekend_moves and d2 in allowed_weekend_moves):\n",
    "            continue\n",
    "        \n",
    "        P_set.add((b1, b2))\n",
    "    \n",
    "    return list(P_set)"
   ]
  },
  {
   "cell_type": "code",
   "execution_count": 5,
   "id": "66ad3a46",
   "metadata": {},
   "outputs": [],
   "source": [
    "def getAllowedMoves3(df, utils):\n",
    "    B = df['Block'].unique()\n",
    "    P_set = set()\n",
    "    \n",
    "    weekend_days = {6, 7}      \n",
    "    allowed_weekend_moves = {5, 6, 7}  \n",
    "\n",
    "    for b1, b2 in itertools.product(B, repeat=2):\n",
    "        o1 = utils.getRoom(b1)\n",
    "        o2 = utils.getRoom(b2)\n",
    "        \n",
    "        if abs(o1 - o2) > 10:\n",
    "            continue\n",
    "\n",
    "        d1 = utils.getDay(b1)\n",
    "        d2 = utils.getDay(b2)\n",
    "        \n",
    "        if (d1 in weekend_days or d2 in weekend_days) and not (d1 in allowed_weekend_moves and d2 in allowed_weekend_moves):\n",
    "            continue\n",
    "        \n",
    "        P_set.add((b1, b2))\n",
    "    \n",
    "    return list(P_set)"
   ]
  },
  {
   "cell_type": "code",
   "execution_count": 6,
   "id": "2c3f239b",
   "metadata": {},
   "outputs": [
    {
     "name": "stdout",
     "output_type": "stream",
     "text": [
      "\n",
      "\n",
      " ---------- Reading data ----------\n",
      "Data size: (1456, 7)\n",
      "\n",
      "\n",
      " ---------- Do precalculations ----------\n",
      "Finish, uses 24.33515 seconds\n"
     ]
    }
   ],
   "source": [
    "df, utils_ = readData(pre=True)"
   ]
  },
  {
   "cell_type": "code",
   "execution_count": 7,
   "id": "75cd6aef-2a86-4527-a5d0-05515b91c24d",
   "metadata": {},
   "outputs": [],
   "source": [
    "P = getAllowedMoves(df, utils_)\n",
    "\n",
    "# Hyperparameters\n",
    "F = ['1']\n",
    "l_v = [0,0,0,0,0]\n",
    "u_v = [47,47,47,47,47]"
   ]
  },
  {
   "cell_type": "code",
   "execution_count": 8,
   "id": "f479af61-03e4-4b63-a9e8-58e2e84ff7f5",
   "metadata": {},
   "outputs": [
    {
     "name": "stdout",
     "output_type": "stream",
     "text": [
      "\n",
      "\n",
      " ---------- Creating model ----------\n",
      "Set parameter Username\n",
      "Academic license - for non-commercial use only - expires 2025-11-24\n",
      "New model created successfully.\n",
      "\n",
      "\n",
      " ---------- Reading sets from df and precompute ----------\n",
      "Finish, uses 0.00044 seconds\n",
      "\n",
      "\n",
      " ---------- Setting decision variables ----------\n",
      "Finish, uses 0.09215 seconds\n",
      "\n",
      "\n",
      " ---------- Setting constraints ----------\n",
      "Setting additional constraints\n",
      "Finish, uses 1.47785 seconds\n",
      "Setting constraints (2)\n",
      "Finish, uses 1.43846 seconds\n",
      "Setting constraints (3)\n",
      "Finish, uses 22.54053 seconds\n",
      "Setting constraints (4)\n",
      "Finish, uses 36.06794 seconds\n",
      "Setting constraints (5)\n",
      "Finish, uses 69.09379 seconds\n",
      "---------- Setting objection ----------\n",
      "Finish, uses 0.00109 seconds\n",
      "\n",
      "\n",
      " ---------- Optimizing ----------\n",
      "Gurobi Optimizer version 11.0.3 build v11.0.3rc0 (mac64[arm] - Darwin 24.3.0 24D81)\n",
      "\n",
      "CPU model: Apple M1 Pro\n",
      "Thread count: 10 physical cores, 10 logical processors, using up to 10 threads\n",
      "\n",
      "Optimize a model with 3654 rows, 48147 columns and 759976 nonzeros\n",
      "Model fingerprint: 0xc13b0b13\n",
      "Variable types: 0 continuous, 48147 integer (48118 binary)\n",
      "Coefficient statistics:\n",
      "  Matrix range     [1e+00, 9e+00]\n",
      "  Objective range  [1e+00, 1e+00]\n",
      "  Bounds range     [1e+00, 1e+00]\n",
      "  RHS range        [1e+00, 5e+01]\n",
      "Presolve removed 189 rows and 0 columns\n",
      "Presolve time: 0.71s\n",
      "Presolved: 3465 rows, 48147 columns, 579159 nonzeros\n",
      "Variable types: 0 continuous, 48147 integer (48118 binary)\n",
      "Deterministic concurrent LP optimizer: primal simplex, dual simplex, and barrier\n",
      "Showing barrier log only...\n",
      "\n",
      "Root barrier log...\n",
      "\n",
      "Ordering time: 0.00s\n",
      "\n",
      "Barrier statistics:\n",
      " AA' NZ     : 3.197e+04\n",
      " Factor NZ  : 6.740e+04 (roughly 4 MB of memory)\n",
      " Factor Ops : 8.990e+06 (less than 1 second per iteration)\n",
      " Threads    : 7\n",
      "\n",
      "                  Objective                Residual\n",
      "Iter       Primal          Dual         Primal    Dual     Compl     Time\n",
      "   0   6.65877499e+00  5.11526605e+02  1.26e+03 1.26e-14  1.23e+00     1s\n",
      "   1   2.32754779e+01  2.91089466e+02  2.76e+02 8.88e-16  2.65e-01     1s\n",
      "   2   2.31627415e+01  1.84447431e+02  3.86e-02 3.55e-15  1.15e-02     1s\n",
      "   3   2.32854683e+01  2.34465488e+01  3.84e-05 3.14e-15  1.14e-05     1s\n",
      "\n",
      "Barrier performed 3 iterations in 1.02 seconds (2.36 work units)\n",
      "Barrier solve interrupted - model solved by another algorithm\n",
      "\n",
      "Concurrent spin time: 0.02s\n",
      "\n",
      "Solved with dual simplex\n",
      "\n",
      "Use crossover to convert LP symmetric solution to basic solution...\n",
      "\n",
      "Root relaxation: objective 2.328571e+01, 2189 iterations, 0.30 seconds (0.50 work units)\n",
      "\n",
      "    Nodes    |    Current Node    |     Objective Bounds      |     Work\n",
      " Expl Unexpl |  Obj  Depth IntInf | Incumbent    BestBd   Gap | It/Node Time\n",
      "\n",
      "     0     0   23.28571    0 1380          -   23.28571      -     -    9s\n",
      "     0     0   23.28571    0 1414          -   23.28571      -     -   19s\n",
      "     0     0   23.00000    0 1362          -   23.00000      -     -   57s\n",
      "     0     0   23.00000    0 1356          -   23.00000      -     -   72s\n",
      "     0     0   23.00000    0 1332          -   23.00000      -     -   81s\n",
      "     0     0   23.00000    0 1325          -   23.00000      -     -   81s\n",
      "     0     0   23.00000    0 1320          -   23.00000      -     -   89s\n",
      "     0     0   23.00000    0 1321          -   23.00000      -     -   89s\n",
      "     0     0   23.00000    0 1321          -   23.00000      -     -   97s\n",
      "     0     2   23.00000    0 1321          -   23.00000      -     -  161s\n",
      "     3     8   23.00000    2 1233          -   23.00000      - 10038  167s\n",
      "     7    16   23.00000    3 1219          -   23.00000      -  5794  171s\n",
      "    15    26   23.00000    4 1222          -   23.00000      -  4122  181s\n",
      "    35    46   23.00000    6 1102          -   23.00000      -  4144  186s\n",
      "    55    66   23.00000    8 1157          -   23.00000      -  3210  192s\n",
      "    75   119   23.00000   10 1044          -   23.00000      -  2787  203s\n",
      "   118   209   23.00000   12 1028          -   23.00000      -  2295  217s\n",
      "   208   421   23.00000   18 1000          -   23.00000      -  1863  249s\n",
      "   420   961   23.00000   32  941          -   23.00000      -  1558  316s\n",
      "   960  1871   23.00000   64  890          -   23.00000      -  1332  404s\n",
      "  1870  3230   23.00000  125  765          -   23.00000      -  1151  477s\n",
      "  3231  5257   23.00000  217  450          -   23.00000      -   959  526s\n",
      "H 3302  2578                      23.0000000   23.00000  0.00%   948  526s\n",
      "\n",
      "Cutting planes:\n",
      "  Clique: 36\n",
      "  Zero half: 2\n",
      "\n",
      "Explored 5362 nodes (4217107 simplex iterations) in 527.11 seconds (1097.95 work units)\n",
      "Thread count was 10 (of 10 available processors)\n",
      "\n",
      "Solution count 1: 23 \n",
      "\n",
      "Optimal solution found (tolerance 1.00e-04)\n",
      "Best objective 2.300000000000e+01, best bound 2.300000000000e+01, gap 0.0000%\n",
      "Finish, uses 527.12536 seconds\n"
     ]
    }
   ],
   "source": [
    "model = OR_model(df=df, P=P, F=F, l_v=l_v, u_v=u_v, alpha=0, utils=utils_)\n",
    "model.init()\n",
    "model.optimize()"
   ]
  },
  {
   "cell_type": "code",
   "execution_count": 9,
   "id": "f9e37593",
   "metadata": {},
   "outputs": [
    {
     "data": {
      "image/png": "[encoded data removed]",
      "text/plain": [
       "<Figure size 800x800 with 1 Axes>"
      ]
     },
     "metadata": {},
     "output_type": "display_data"
    }
   ],
   "source": [
    "result = model.getResult()\n",
    "result.plot()"
   ]
  },
  {
   "cell_type": "code",
   "execution_count": 10,
   "id": "9a019210",
   "metadata": {},
   "outputs": [],
   "source": [
    "result.save(\"result_P1_a0.csv\")"
   ]
  },
  {
   "cell_type": "code",
   "execution_count": null,
   "id": "ab769bd7",
   "metadata": {},
   "outputs": [],
   "source": []
  }
 ],
 "metadata": {
  "kernelspec": {
   "display_name": "gurobi",
   "language": "python",
   "name": "python3"
  },
  "language_info": {
   "codemirror_mode": {
    "name": "ipython",
    "version": 3
   },
   "file_extension": ".py",
   "mimetype": "text/x-python",
   "name": "python",
   "nbconvert_exporter": "python",
   "pygments_lexer": "ipython3",
   "version": "3.12.7"
  }
 },
 "nbformat": 4,
 "nbformat_minor": 5
}
