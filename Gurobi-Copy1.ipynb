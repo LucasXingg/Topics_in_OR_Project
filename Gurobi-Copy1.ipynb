{
 "cells": [
  {
   "cell_type": "code",
   "execution_count": 1,
   "id": "402b1a0e-e50a-491f-8f10-4f8138c412fb",
   "metadata": {},
   "outputs": [],
   "source": [
    "from scripts.utils import utils\n",
    "from scripts.model import OR_model\n",
    "\n",
    "import pandas as pd\n",
    "import itertools\n",
    "import numpy as np\n",
    "import matplotlib.pyplot as plt\n",
    "import time\n",
    "import gurobipy as gp\n",
    "from gurobipy import GRB"
   ]
  },
  {
   "cell_type": "code",
   "execution_count": 2,
   "id": "7ff2e4ca-36c7-4893-ae66-aba505514bf5",
   "metadata": {},
   "outputs": [],
   "source": [
    "def readData():\n",
    "    print(\"\\n\\n\", \"-\"*10, \"Reading data\", \"-\"*10)\n",
    "    df = pd.read_csv('dataset.csv')\n",
    "\n",
    "    print(\"Data size:\", df.shape)\n",
    "\n",
    "    print(\"\\n\\n\", \"-\"*10, \"Do precalculations\", \"-\"*10)\n",
    "    start = time.time()\n",
    "\n",
    "    utils_ = utils(df)\n",
    "\n",
    "    print(f\"Finish, uses {time.time() - start:.5f} seconds\")\n",
    "\n",
    "    return df, utils_"
   ]
  },
  {
   "cell_type": "code",
   "execution_count": 3,
   "id": "c623230c-8ae4-4cec-a257-e212d32709ba",
   "metadata": {},
   "outputs": [],
   "source": [
    "def getAllowedMoves(df, utils):\n",
    "    B = df['Block'].unique()\n",
    "    P_set = set()\n",
    "\n",
    "    for b1, b2 in itertools.product(B, repeat=2):\n",
    "        o1 = utils.getRoom(b1)\n",
    "        o2 = utils.getRoom(b2)\n",
    "        if abs(o1 - o2) <= 10:\n",
    "            P_set.add((b1,b2))\n",
    "\n",
    "    return list(P_set)"
   ]
  },
  {
   "cell_type": "code",
   "execution_count": 4,
   "id": "75cd6aef-2a86-4527-a5d0-05515b91c24d",
   "metadata": {},
   "outputs": [
    {
     "name": "stdout",
     "output_type": "stream",
     "text": [
      "\n",
      "\n",
      " ---------- Reading data ----------\n",
      "Data size: (1456, 7)\n",
      "\n",
      "\n",
      " ---------- Do precalculations ----------\n",
      "Finish, uses 51.29623 seconds\n"
     ]
    }
   ],
   "source": [
    "df, utils = readData()\n",
    "P = getAllowedMoves(df, utils)\n",
    "\n",
    "# Hyperparameters\n",
    "F = ['1']\n",
    "l_v = [0,0,0,0,0]\n",
    "u_v = [150,150,150,150,150]"
   ]
  },
  {
   "cell_type": "code",
   "execution_count": 5,
   "id": "f479af61-03e4-4b63-a9e8-58e2e84ff7f5",
   "metadata": {},
   "outputs": [
    {
     "name": "stdout",
     "output_type": "stream",
     "text": [
      "\n",
      "\n",
      " ---------- Creating model ----------\n",
      "Set parameter Username\n",
      "Set parameter LicenseID to value 2631632\n",
      "Academic license - for non-commercial use only - expires 2026-03-05\n",
      "New model created successfully.\n",
      "\n",
      "\n",
      " ---------- Reading sets from df and precompute ----------\n",
      "Finish, uses 0.00123 seconds\n",
      "\n",
      "\n",
      " ---------- Setting decision variables ----------\n",
      "Finish, uses 0.14299 seconds\n",
      "\n",
      "\n",
      " ---------- Setting constraints ----------\n",
      "Setting additional constraints\n",
      "Finish, uses 2.12111 seconds\n",
      "Setting constraints (2)\n",
      "Finish, uses 2.12813 seconds\n",
      "Setting constraints (3)\n",
      "Finish, uses 46.48645 seconds\n",
      "Setting constraints (4)\n",
      "Finish, uses 65.42948 seconds\n",
      "Setting constraints (5)\n",
      "Finish, uses 139.81353 seconds\n",
      "---------- Setting objection ----------\n",
      "Finish, uses 0.00100 seconds\n",
      "\n",
      "\n",
      " ---------- Optimizing ----------\n",
      "Gurobi Optimizer version 12.0.1 build v12.0.1rc0 (win64 - Windows 10.0 (19045.2))\n",
      "\n",
      "CPU model: AMD Ryzen 5 5600X 6-Core Processor, instruction set [SSE2|AVX|AVX2]\n",
      "Thread count: 6 physical cores, 12 logical processors, using up to 12 threads\n",
      "\n",
      "Optimize a model with 3654 rows, 48147 columns and 759976 nonzeros\n",
      "Model fingerprint: 0x2f729c76\n",
      "Variable types: 0 continuous, 48147 integer (48118 binary)\n",
      "Coefficient statistics:\n",
      "  Matrix range     [1e+00, 9e+00]\n",
      "  Objective range  [1e+00, 1e+00]\n",
      "  Bounds range     [1e+00, 1e+00]\n",
      "  RHS range        [1e+00, 2e+02]\n",
      "Presolve removed 224 rows and 0 columns\n",
      "Presolve time: 0.66s\n",
      "Presolved: 3430 rows, 48147 columns, 439803 nonzeros\n",
      "Variable types: 0 continuous, 48147 integer (48118 binary)\n",
      "Deterministic concurrent LP optimizer: primal and dual simplex\n",
      "Showing primal log only...\n",
      "\n",
      "Concurrent spin time: 0.00s\n",
      "\n",
      "Solved with dual simplex\n",
      "\n",
      "Use crossover to convert LP symmetric solution to basic solution...\n",
      "\n",
      "Root relaxation: objective 2.328571e+01, 2205 iterations, 0.34 seconds (0.45 work units)\n",
      "\n",
      "    Nodes    |    Current Node    |     Objective Bounds      |     Work\n",
      " Expl Unexpl |  Obj  Depth IntInf | Incumbent    BestBd   Gap | It/Node Time\n",
      "\n",
      "     0     0   23.28571    0 1362          -   23.28571      -     -    9s\n",
      "     0     0   23.28571    0 1407          -   23.28571      -     -   23s\n",
      "     0     0   23.00000    0 1353          -   23.00000      -     -   62s\n",
      "     0     0   23.00000    0 1346          -   23.00000      -     -   79s\n",
      "     0     0   23.00000    0 1330          -   23.00000      -     -   89s\n",
      "     0     0   23.00000    0 1326          -   23.00000      -     -  101s\n",
      "     0     0   23.00000    0 1325          -   23.00000      -     -  111s\n",
      "     0     0   23.00000    0 1325          -   23.00000      -     -  121s\n",
      "     0     2   23.00000    0  804          -   23.00000      -     -  202s\n",
      "     7    14   23.00000    3  886          -   23.00000      -  5086  206s\n",
      "    13    20   23.00000    4  876          -   23.00000      -  3650  215s\n",
      "    19    59   23.00000    5  835          -   23.00000      -  5208  224s\n",
      "    58   133   23.00000    8  883          -   23.00000      -  2585  241s\n",
      "   132   311   23.00000   15  836          -   23.00000      -  1847  275s\n",
      "   310   697   23.00000   32  943          -   23.00000      -  1453  343s\n",
      "   696  1284   23.00000   62  978          -   23.00000      -  1291  414s\n",
      "  1283  2077   23.00000  112  821          -   23.00000      -  1095  468s\n",
      "  2081  3291   23.00000  167  666          -   23.00000      -   924  503s\n",
      "* 2349  1543             326      23.0000000   23.00000  0.00%   875  503s\n",
      "\n",
      "Cutting planes:\n",
      "  Clique: 23\n",
      "\n",
      "Explored 3410 nodes (2558591 simplex iterations) in 503.30 seconds (985.99 work units)\n",
      "Thread count was 12 (of 12 available processors)\n",
      "\n",
      "Solution count 1: 23 \n",
      "\n",
      "Optimal solution found (tolerance 1.00e-04)\n",
      "Best objective 2.300000000000e+01, best bound 2.300000000000e+01, gap 0.0000%\n",
      "Finish, uses 503.32631 seconds\n"
     ]
    }
   ],
   "source": [
    "model = OR_model(df=df, P=P, F=F, l_v=l_v, u_v=u_v, utils=utils)\n",
    "model.init()\n",
    "model.optimize()"
   ]
  },
  {
   "cell_type": "code",
   "execution_count": 6,
   "id": "775c62b7-6cf1-4b37-a73a-f18f5f48002d",
   "metadata": {},
   "outputs": [
    {
     "name": "stdout",
     "output_type": "stream",
     "text": [
      "\n",
      "\n",
      " ---------- Saving model ----------\n",
      "Model saved successfully as './saves/baseline.mps'\n"
     ]
    }
   ],
   "source": [
    "model.saveModel(\"./saves/baseline\")"
   ]
  },
  {
   "cell_type": "code",
   "execution_count": null,
   "id": "d61c5f74-9cd3-4c64-8386-2f34e82aa1ca",
   "metadata": {},
   "outputs": [],
   "source": []
  }
 ],
 "metadata": {
  "kernelspec": {
   "display_name": "Python 3 (ipykernel)",
   "language": "python",
   "name": "python3"
  },
  "language_info": {
   "codemirror_mode": {
    "name": "ipython",
    "version": 3
   },
   "file_extension": ".py",
   "mimetype": "text/x-python",
   "name": "python",
   "nbconvert_exporter": "python",
   "pygments_lexer": "ipython3",
   "version": "3.12.9"
  }
 },
 "nbformat": 4,
 "nbformat_minor": 5
}
