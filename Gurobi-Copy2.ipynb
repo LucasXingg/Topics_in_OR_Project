{
 "cells": [
  {
   "cell_type": "code",
   "execution_count": 2,
   "id": "402b1a0e-e50a-491f-8f10-4f8138c412fb",
   "metadata": {},
   "outputs": [],
   "source": [
    "import pandas as pd\n",
    "import itertools\n",
    "import numpy as np\n",
    "import random\n",
    "import matplotlib.pyplot as plt\n",
    "import time"
   ]
  },
  {
   "cell_type": "code",
   "execution_count": 3,
   "id": "c3dcd469-9193-4094-89d7-04597ad806af",
   "metadata": {},
   "outputs": [
    {
     "data": {
      "text/html": [
       "<div>\n",
       "<style scoped>\n",
       "    .dataframe tbody tr th:only-of-type {\n",
       "        vertical-align: middle;\n",
       "    }\n",
       "\n",
       "    .dataframe tbody tr th {\n",
       "        vertical-align: top;\n",
       "    }\n",
       "\n",
       "    .dataframe thead th {\n",
       "        text-align: right;\n",
       "    }\n",
       "</style>\n",
       "<table border=\"1\" class=\"dataframe\">\n",
       "  <thead>\n",
       "    <tr style=\"text-align: right;\">\n",
       "      <th></th>\n",
       "      <th>ORs</th>\n",
       "      <th>Weekday</th>\n",
       "      <th>Week Number</th>\n",
       "      <th>Block</th>\n",
       "      <th>Beds</th>\n",
       "      <th>Surgeon ID</th>\n",
       "      <th>Service ID</th>\n",
       "    </tr>\n",
       "  </thead>\n",
       "  <tbody>\n",
       "    <tr>\n",
       "      <th>0</th>\n",
       "      <td>1</td>\n",
       "      <td>1</td>\n",
       "      <td>1</td>\n",
       "      <td>(d1,o1)</td>\n",
       "      <td>5</td>\n",
       "      <td>13</td>\n",
       "      <td>0</td>\n",
       "    </tr>\n",
       "    <tr>\n",
       "      <th>1</th>\n",
       "      <td>1</td>\n",
       "      <td>1</td>\n",
       "      <td>2</td>\n",
       "      <td>(d1,o1)</td>\n",
       "      <td>6</td>\n",
       "      <td>42</td>\n",
       "      <td>2</td>\n",
       "    </tr>\n",
       "    <tr>\n",
       "      <th>2</th>\n",
       "      <td>1</td>\n",
       "      <td>1</td>\n",
       "      <td>3</td>\n",
       "      <td>(d1,o1)</td>\n",
       "      <td>6</td>\n",
       "      <td>98</td>\n",
       "      <td>4</td>\n",
       "    </tr>\n",
       "    <tr>\n",
       "      <th>3</th>\n",
       "      <td>1</td>\n",
       "      <td>1</td>\n",
       "      <td>4</td>\n",
       "      <td>(d1,o1)</td>\n",
       "      <td>7</td>\n",
       "      <td>12</td>\n",
       "      <td>0</td>\n",
       "    </tr>\n",
       "    <tr>\n",
       "      <th>4</th>\n",
       "      <td>1</td>\n",
       "      <td>2</td>\n",
       "      <td>1</td>\n",
       "      <td>(d2,o1)</td>\n",
       "      <td>7</td>\n",
       "      <td>46</td>\n",
       "      <td>2</td>\n",
       "    </tr>\n",
       "  </tbody>\n",
       "</table>\n",
       "</div>"
      ],
      "text/plain": [
       "   ORs  Weekday  Week Number    Block  Beds  Surgeon ID  Service ID\n",
       "0    1        1            1  (d1,o1)     5          13           0\n",
       "1    1        1            2  (d1,o1)     6          42           2\n",
       "2    1        1            3  (d1,o1)     6          98           4\n",
       "3    1        1            4  (d1,o1)     7          12           0\n",
       "4    1        2            1  (d2,o1)     7          46           2"
      ]
     },
     "execution_count": 3,
     "metadata": {},
     "output_type": "execute_result"
    }
   ],
   "source": [
    "df = pd.read_csv('dataset.csv')\n",
    "m = df.shape[0]\n",
    "df.head()"
   ]
  },
  {
   "cell_type": "code",
   "execution_count": 31,
   "id": "c475a056-f56a-47bf-b9a8-73942132e5c2",
   "metadata": {},
   "outputs": [
    {
     "data": {
      "text/plain": [
       "'(d1,o3)'"
      ]
     },
     "execution_count": 31,
     "metadata": {},
     "output_type": "execute_result"
    }
   ],
   "source": [
    "def makeBlockStr(day, room):\n",
    "    return f\"(d{day},o{room})\"\n",
    "\n",
    "makeBlockStr(1, 3)"
   ]
  },
  {
   "cell_type": "code",
   "execution_count": 75,
   "id": "3e5b34d7-78fb-4d5f-a35e-8e8aa280c297",
   "metadata": {},
   "outputs": [
    {
     "data": {
      "text/plain": [
       "43"
      ]
     },
     "execution_count": 75,
     "metadata": {},
     "output_type": "execute_result"
    }
   ],
   "source": [
    "def getRoom(b):\n",
    "    room = b.split('o')[1][0:-1]\n",
    "    return int(room)\n",
    "\n",
    "getRoom('(d2,o43)')"
   ]
  },
  {
   "cell_type": "code",
   "execution_count": 33,
   "id": "497c470a-c1cc-49c6-bc42-fe518999f5a2",
   "metadata": {},
   "outputs": [],
   "source": [
    "# Define days and operating rooms\n",
    "days = [f'd{i}' for i in range(1, 8)]\n",
    "rooms = [f'o{i}' for i in range(1, 53)]\n",
    "\n",
    "# Generate all valid block pairs P\n",
    "P = []\n",
    "for (d1, o1), (d2, o2) in itertools.product(itertools.product(days, rooms), repeat=2):\n",
    "    room_num1, room_num2 = int(o1[1:]), int(o2[1:])  # Extract room numbers\n",
    "    if abs(room_num1 - room_num2) <= 10:\n",
    "        new_item = (f\"({d1},{o1})\", f\"({d2},{o2})\")\n",
    "        if not new_item in P:\n",
    "            P.append(new_item)\n",
    "\n",
    "# Print a sample of P to check\n"
   ]
  },
  {
   "cell_type": "code",
   "execution_count": 34,
   "id": "41f64c47-f944-43d7-b985-5210f58614c4",
   "metadata": {},
   "outputs": [
    {
     "name": "stdout",
     "output_type": "stream",
     "text": [
      "[]\n"
     ]
    }
   ],
   "source": [
    "from collections import Counter\n",
    "\n",
    "def find_duplicates(lst):\n",
    "    counts = Counter(lst)\n",
    "    return [item for item, count in counts.items() if count > 1]\n",
    "\n",
    "lst = [1, 2, 3, 4, 2, 3, 5, 3]\n",
    "print(find_duplicates(P))  # Output: [2, 3]\n"
   ]
  },
  {
   "cell_type": "code",
   "execution_count": 35,
   "id": "f14c0e86-d689-4089-a1ac-8b301e3bf451",
   "metadata": {},
   "outputs": [],
   "source": [
    "def getDay(b):\n",
    "    day = b.split('d')[1][0]\n",
    "    return int(day)"
   ]
  },
  {
   "cell_type": "code",
   "execution_count": 36,
   "id": "38a33c3c-6f27-471c-a9ff-9338916c1192",
   "metadata": {},
   "outputs": [],
   "source": [
    "def cases(b):\n",
    "    line = df[(df['Block'] == b)]\n",
    "    return list(line['Beds'])"
   ]
  },
  {
   "cell_type": "code",
   "execution_count": 37,
   "id": "3f08b44b-6c40-4916-b2c9-9ea4e2bf5bd6",
   "metadata": {},
   "outputs": [],
   "source": [
    "def alloc(b, v):\n",
    "    line = df[(df['Block'] == b) & (df['Service ID'] == v)]\n",
    "    return len(line)"
   ]
  },
  {
   "cell_type": "code",
   "execution_count": 38,
   "id": "388c0cf4-8ee9-4b11-b2b2-019d5b7045be",
   "metadata": {},
   "outputs": [],
   "source": [
    "# def Di(b, w, s):\n",
    "#     line = df[(df['Block'] == b) & (df['Week Number'] == w)]\n",
    "#     return line['Surgeon ID'] == s"
   ]
  },
  {
   "cell_type": "code",
   "execution_count": 39,
   "id": "f1809295-7f72-4f84-b38c-8c0ac29ba212",
   "metadata": {},
   "outputs": [],
   "source": [
    "def Di(b, w, s):\n",
    "    line = df[(df['Block'] == b) & (df['Week Number'] == w) & (df['Surgeon ID'] == s)]\n",
    "    return not line.empty  # Returns True if at least one row exists\n"
   ]
  },
  {
   "cell_type": "code",
   "execution_count": 40,
   "id": "bf1d93a2-3b33-491d-ab51-25ddbdef95e6",
   "metadata": {},
   "outputs": [
    {
     "data": {
      "text/plain": [
       "True"
      ]
     },
     "execution_count": 40,
     "metadata": {},
     "output_type": "execute_result"
    }
   ],
   "source": [
    "Di('(d1,o1)',2,42)"
   ]
  },
  {
   "cell_type": "code",
   "execution_count": 41,
   "id": "d278b180-ec82-4bf1-8956-3d39538c7e68",
   "metadata": {},
   "outputs": [],
   "source": [
    "totalBedCount = sum(df['Beds'].to_numpy())"
   ]
  },
  {
   "cell_type": "code",
   "execution_count": null,
   "id": "501e3c8b-40cd-40c5-941d-4383934efb83",
   "metadata": {},
   "outputs": [],
   "source": []
  },
  {
   "cell_type": "code",
   "execution_count": 42,
   "id": "8d61da0d-ef99-477e-a464-6181ccf812a5",
   "metadata": {},
   "outputs": [
    {
     "data": {
      "text/plain": [
       "'(d1,o1)'"
      ]
     },
     "execution_count": 42,
     "metadata": {},
     "output_type": "execute_result"
    }
   ],
   "source": [
    "p = P[0]\n",
    "def getBs(p):\n",
    "    b1, b2 = p\n",
    "    return [b1, b2]\n",
    "\n",
    "getBs(p)[0]"
   ]
  },
  {
   "cell_type": "code",
   "execution_count": 89,
   "id": "900d8d2e-be61-4bb5-8c15-7898942fd695",
   "metadata": {},
   "outputs": [
    {
     "data": {
      "text/plain": [
       "48118"
      ]
     },
     "execution_count": 89,
     "metadata": {},
     "output_type": "execute_result"
    }
   ],
   "source": [
    "B = df['Block'].unique()\n",
    "P_set = set()\n",
    "\n",
    "for b1, b2 in itertools.product(B, repeat=2):\n",
    "    o1 = getRoom(b1)\n",
    "    o2 = getRoom(b2)\n",
    "    if abs(o1 - o2) <= 10:\n",
    "        P_set.add((b1,b2))\n",
    "\n",
    "P = list(P_set)\n",
    "len(P)"
   ]
  },
  {
   "cell_type": "code",
   "execution_count": null,
   "id": "b55e03af-6ff3-48e6-b188-d1f2f343350b",
   "metadata": {},
   "outputs": [],
   "source": []
  },
  {
   "cell_type": "code",
   "execution_count": 97,
   "id": "55b32b9b-a260-4656-a70a-a6bcd924d095",
   "metadata": {},
   "outputs": [
    {
     "name": "stdout",
     "output_type": "stream",
     "text": [
      "---------- Reading sets from df ----------\n",
      "Finish, uses 25.19501519203186 seconds\n",
      "---------- Creating model object ----------\n",
      "Finish, uses 0.01119375228881836 seconds\n",
      "---------- Setting decision variables ----------\n",
      "Finish, uses 0.14148783683776855 seconds\n",
      "---------- Setting constraints ----------\n",
      "Setting additional constraints\n",
      "Finish, uses 1.237515926361084 seconds\n",
      "Setting constraints (2)\n",
      "Finish, uses 1.2157330513000488 seconds\n",
      "Setting constraints (3)\n",
      "Finish, uses 23.073126077651978 seconds\n",
      "Setting constraints (4)\n",
      "Finish, uses 36.45368790626526 seconds\n",
      "Setting constraints (5)\n",
      "Finish, uses 70.49591112136841 seconds\n",
      "---------- Setting objection ----------\n",
      "Finish, uses 0.0016469955444335938 seconds\n",
      "---------- Optimizing ----------\n",
      "Gurobi Optimizer version 11.0.3 build v11.0.3rc0 (mac64[arm] - Darwin 24.3.0 24D70)\n",
      "\n",
      "CPU model: Apple M1 Pro\n",
      "Thread count: 10 physical cores, 10 logical processors, using up to 10 threads\n",
      "\n",
      "Optimize a model with 3654 rows, 48147 columns and 759976 nonzeros\n",
      "Model fingerprint: 0xd1223665\n",
      "Variable types: 0 continuous, 48147 integer (48118 binary)\n",
      "Coefficient statistics:\n",
      "  Matrix range     [1e+00, 9e+00]\n",
      "  Objective range  [1e+00, 1e+00]\n",
      "  Bounds range     [1e+00, 1e+00]\n",
      "  RHS range        [1e+00, 2e+02]\n",
      "Presolve removed 224 rows and 0 columns\n",
      "Presolve time: 0.52s\n",
      "Presolved: 3430 rows, 48147 columns, 439803 nonzeros\n",
      "Variable types: 0 continuous, 48147 integer (48118 binary)\n",
      "Deterministic concurrent LP optimizer: primal and dual simplex\n",
      "Showing primal log only...\n",
      "\n",
      "Concurrent spin time: 0.00s\n",
      "\n",
      "Solved with dual simplex\n",
      "\n",
      "Use crossover to convert LP symmetric solution to basic solution...\n",
      "\n",
      "Root relaxation: objective 2.328571e+01, 2185 iterations, 0.24 seconds (0.43 work units)\n",
      "\n",
      "    Nodes    |    Current Node    |     Objective Bounds      |     Work\n",
      " Expl Unexpl |  Obj  Depth IntInf | Incumbent    BestBd   Gap | It/Node Time\n",
      "\n",
      "     0     0   23.28571    0 1374          -   23.28571      -     -    8s\n",
      "     0     0   23.28571    0 1409          -   23.28571      -     -   13s\n",
      "     0     0   23.28571    0 1397          -   23.28571      -     -   35s\n",
      "     0     0   23.00000    0 1365          -   23.00000      -     -   76s\n",
      "     0     0   23.00000    0 1352          -   23.00000      -     -   90s\n",
      "     0     0   23.00000    0 1339          -   23.00000      -     -   91s\n",
      "     0     0   23.00000    0 1329          -   23.00000      -     -  103s\n",
      "     0     0   23.00000    0 1326          -   23.00000      -     -  112s\n",
      "     0     0   23.00000    0 1326          -   23.00000      -     -  113s\n",
      "     0     0   23.00000    0 1321          -   23.00000      -     -  121s\n",
      "     0     0   23.00000    0 1321          -   23.00000      -     -  122s\n",
      "     0     0   23.00000    0 1321          -   23.00000      -     -  131s\n",
      "     0     0   23.00000    0 1320          -   23.00000      -     -  132s\n",
      "     0     0   23.00000    0 1320          -   23.00000      -     -  141s\n",
      "     0     0   23.00000    0 1320          -   23.00000      -     -  148s\n",
      "     0     2   23.00000    0 1320          -   23.00000      -     -  234s\n",
      "     1     4   23.00000    1 1270          -   23.00000      - 28705  236s\n",
      "     7    16   23.00000    3 1217          -   23.00000      -  6227  242s\n",
      "    15    26   23.00000    4 1212          -   23.00000      -  4566  253s\n",
      "    25    36   23.00000    5 1141          -   23.00000      -  5655  255s\n",
      "    45    56   23.00000    6 1161          -   23.00000      -  3882  261s\n",
      "    66    78   23.00000    8 1030          -   23.00000      -  3096  267s\n",
      "    77   102   23.00000    9 1038          -   23.00000      -  2877  272s\n",
      "   101   176   23.00000   11 1083          -   23.00000      -  2539  284s\n",
      "   175   348   23.00000   15  986          -   23.00000      -  1997  311s\n",
      "   347   783   23.00000   25  996          -   23.00000      -  1625  367s\n",
      "   782  1665   23.00000   49  898          -   23.00000      -  1350  462s\n",
      "  1664  2907   23.00000  104  775          -   23.00000      -  1146  535s\n",
      "  2906  5015   23.00000  191  533          -   23.00000      -   972  587s\n",
      "* 3518  5015             371      22.0000000   23.00000  4.55%   894  587s\n",
      "* 4071  2664             358      23.0000000   23.00000  0.00%   834  587s\n",
      "\n",
      "Cutting planes:\n",
      "  Clique: 33\n",
      "  Zero half: 1\n",
      "\n",
      "Explored 5093 nodes (4075064 simplex iterations) in 587.49 seconds (1178.70 work units)\n",
      "Thread count was 10 (of 10 available processors)\n",
      "\n",
      "Solution count 2: 23 22 \n",
      "\n",
      "Optimal solution found (tolerance 1.00e-04)\n",
      "Best objective 2.300000000000e+01, best bound 2.300000000000e+01, gap 0.0000%\n",
      "Finish, uses 587.5110659599304 seconds\n"
     ]
    }
   ],
   "source": [
    "import gurobipy as gp\n",
    "from gurobipy import GRB\n",
    "\n",
    "# Define sets\n",
    "print(\"-\"*10, \"Reading sets from df and precompute\", \"-\"*10)\n",
    "start = time.time()\n",
    "\n",
    "W = df['Weekday'].unique()            #weekday\n",
    "N = df['Week Number'].unique()        #OR\n",
    "O = df['ORs'].unique()                #OR\n",
    "B = df['Block'].unique()              #Block\n",
    "S = df['Surgeon ID'].unique()         #Surgeon\n",
    "V = df['Service ID'].unique()         #Service\n",
    "totalBedCount = sum(df['Beds'].to_numpy())\n",
    "\n",
    "l_v = [0,0,0,0,0]                     # lower bound for each service\n",
    "u_v = [150,150,150,150,150]           # upper bound for each service\n",
    "\n",
    "\n",
    "\n",
    "F = ['1']\n",
    "peak = 338\n",
    "\n",
    "\n",
    "# Variables defined here is some precompute values, this is used to reduce complexity of constraints\n",
    "Di_dict = {(b, w, s): not df[(df['Block'] == b) & (df['Week Number'] == w) & (df['Surgeon ID'] == s)].empty\n",
    "           for b in B for w in N for s in S}\n",
    "\n",
    "\n",
    "\n",
    "print(f\"Finish, uses {time.time() - start:.5f} seconds\")\n",
    "# Create a new model\n",
    "print(\"-\"*10, \"Creating model object\", \"-\"*10)\n",
    "start = time.time()\n",
    "\n",
    "model = gp.Model(\"OR opt\")\n",
    "\n",
    "\n",
    "print(f\"Finish, uses {time.time() - start:.5f} seconds\")\n",
    "# Define decision variables\n",
    "print(\"-\"*10, \"Setting decision variables\", \"-\"*10)\n",
    "start = time.time()\n",
    "\n",
    "x_p = model.addVars(P, vtype=GRB.BINARY, name=\"x_p\")  # Allowed Moves\n",
    "z = model.addVars(F, vtype=GRB.INTEGER, name=\"z\")\n",
    "\n",
    "summed_values = model.addVars(W, N, vtype=GRB.INTEGER, name=\"sum_var\") # Total bed counts for weekday d in week i\n",
    "\n",
    "\n",
    "\n",
    "print(f\"Finish, uses {time.time() - start:.5f} seconds\")\n",
    "# Define constraint\n",
    "print(\"-\"*10, \"Setting constraints\", \"-\"*10)\n",
    "\n",
    "# Additional (not from original paper)\n",
    "\n",
    "print(\"Setting additional constraints\")\n",
    "start = time.time()\n",
    "\n",
    "for b1 in B:  # This constraint makes sure that each block can only move to one place\n",
    "    model.addConstr(gp.quicksum(x_p[p] for p in P if b1 == getBs(p)[0]) == 1)\n",
    "\n",
    "# model.addConstr(gp.quicksum(summed_values[d, i] for d in W for i in N) == totalBedCount)\n",
    "\n",
    "\n",
    "print(f\"Finish, uses {time.time() - start:.5f} seconds\")\n",
    "# (2)\n",
    "\n",
    "print(\"Setting constraints (2)\")\n",
    "start = time.time()\n",
    "\n",
    "for b2 in B:\n",
    "    model.addConstr(gp.quicksum(x_p[p] for p in P if b2 == getBs(p)[1]) == 1)\n",
    "\n",
    "\n",
    "print(f\"Finish, uses {time.time() - start:.5f} seconds\")\n",
    "# (3)\n",
    "\n",
    "print(\"Setting constraints (3)\")\n",
    "start = time.time()\n",
    "\n",
    "for f in F:\n",
    "    for d in W: # Weekday\n",
    "        for i in N:\n",
    "            model.addConstr(gp.quicksum(cases(getBs(p)[0])[i-1] * x_p[p] for p in P if getDay(getBs(p)[1]) == d) == summed_values[d, i])\n",
    "            model.addConstr(summed_values[d, i] <= z[f])\n",
    "\n",
    "print(f\"Finish, uses {time.time() - start:.5f} seconds\")\n",
    "# (4)\n",
    "\n",
    "print(\"Setting constraints (4)\")\n",
    "start = time.time()\n",
    "\n",
    "for s in S:\n",
    "    for i in N:\n",
    "        for d in W:\n",
    "\n",
    "            # model.addConstr(gp.quicksum(x_p[p] for p in P if getDay(getBs(p)[1]) == d and Di(getBs(p)[0], i, s)) <= 1)\n",
    "            model.addConstr(gp.quicksum(x_p[p] for p in P if getDay(getBs(p)[1]) == d and Di_dict.get((getBs(p)[0], i, s), False)) <= 1)\n",
    "\n",
    "print(f\"Finish, uses {time.time() - start:.5f} seconds\")\n",
    "# (5)\n",
    "\n",
    "print(\"Setting constraints (5)\")\n",
    "start = time.time()\n",
    "\n",
    "for v in V:\n",
    "    for d in W:\n",
    "        model.addConstr(gp.quicksum(alloc(getBs(p)[0], v) * x_p[p] for p in P if getDay(getBs(p)[1]) == d) <= u_v[v])\n",
    "        model.addConstr(gp.quicksum(alloc(getBs(p)[0], v) * x_p[p] for p in P if getDay(getBs(p)[1]) == d) >= l_v[v])\n",
    "\n",
    "\n",
    "print(f\"Finish, uses {time.time() - start:.5f} seconds\")\n",
    "# Objective\n",
    "print(\"-\"*10, \"Setting objection\", \"-\"*10)\n",
    "start = time.time()\n",
    "\n",
    "model.setObjective(sum(peak - z[f] for f in F), GRB.MAXIMIZE)\n",
    "\n",
    "print(f\"Finish, uses {time.time() - start:.5f} seconds\")\n",
    "# Optimize the model\n",
    "print(\"-\"*10, \"Optimizing\", \"-\"*10)\n",
    "start = time.time()\n",
    "\n",
    "model.optimize()\n",
    "\n",
    "print(f\"Finish, uses {time.time() - start:.5f} seconds\")"
   ]
  },
  {
   "cell_type": "code",
   "execution_count": 99,
   "id": "658d5e47-d0b9-4d22-b3f4-496f402fca09",
   "metadata": {},
   "outputs": [
    {
     "name": "stdout",
     "output_type": "stream",
     "text": [
      "\n",
      "Optimal Solution Found!\n",
      "\n",
      "Optimal values for z:\n",
      "z[1] = 315.0\n",
      "\n",
      "Optimal moves (x_p):\n",
      "\n",
      "Optimal moves (x_p):\n"
     ]
    }
   ],
   "source": [
    "# Print result\n",
    "if model.status == GRB.OPTIMAL:\n",
    "    print(\"\\nOptimal Solution Found!\")\n",
    "\n",
    "    # Print z values\n",
    "    print(\"\\nOptimal values for z:\")\n",
    "    for f in F:\n",
    "        print(f\"z[{f}] = {z[f].x}\")\n",
    "\n",
    "    print(\"\\nOptimal moves (x_p):\")\n",
    "    for d in W:\n",
    "        for i in N:\n",
    "            # print(f\"sum_value[{d}, {i}] = {summed_values[d, i].x}\")\n",
    "            pass\n",
    "\n",
    "    # Print x_p values where x_p[b1, b2] = 1 (i.e., movement occurs)\n",
    "    print(\"\\nOptimal moves (x_p):\")\n",
    "    for p in P:\n",
    "        if x_p[p].x > 0.5:  # Binary, so check if it's 1\n",
    "            # print(f\"x_p[{p}] = {int(x_p[p].x)}\")\n",
    "            pass\n",
    "else:\n",
    "    print(\"\\nNo optimal solution found.\")"
   ]
  },
  {
   "cell_type": "markdown",
   "id": "bf522b19-95a6-4b84-8fa6-31b903265d08",
   "metadata": {},
   "source": [
    "# Get Result"
   ]
  },
  {
   "cell_type": "code",
   "execution_count": 100,
   "id": "3ce739e9-24e5-466d-9135-ed61ae43e09d",
   "metadata": {},
   "outputs": [
    {
     "data": {
      "text/plain": [
       "[6, 6, 6, 6]"
      ]
     },
     "execution_count": 100,
     "metadata": {},
     "output_type": "execute_result"
    }
   ],
   "source": [
    "def casesWeek(b):\n",
    "    line = df[(df['Block'] == b)]\n",
    "    return list(line['Beds']), list(line['Week Number'])\n",
    "\n",
    "cases('(d2,o4)')"
   ]
  },
  {
   "cell_type": "code",
   "execution_count": 101,
   "id": "a3e0180a-49ed-44f7-86c1-e2f343a8dfc9",
   "metadata": {},
   "outputs": [],
   "source": [
    "def getDayOR(b):\n",
    "    day = b.split('d')[1][0]\n",
    "    room = b.split('o')[1][0]\n",
    "    return int(day), int(room)\n",
    "\n",
    "# getDayOR('(d2,o4)')"
   ]
  },
  {
   "cell_type": "code",
   "execution_count": 102,
   "id": "4f7441c7-6cc9-405f-9ff1-def33ec9d16d",
   "metadata": {},
   "outputs": [],
   "source": [
    "# Apply rearrangement\n",
    "df_rearrange = df.copy()\n",
    "\n",
    "rearrangements = []\n",
    "new_bed = np.zeros(m, dtype='int')\n",
    "\n",
    "for p in P:\n",
    "    if x_p[p].x > 0.5:  # Binary, so check if it's 1\n",
    "        # Log all pairs of b1 and b2\n",
    "        rearrangements.append(getBs(p))\n",
    "\n",
    "# Moving beds value from original dataset to new dataset according to resulting moves.\n",
    "for bs in rearrangements:\n",
    "    b1 = bs[0]\n",
    "    b2 = bs[1]\n",
    "    bed, week_num = casesWeek(b1)\n",
    "    d2, o2 = getDayOR(b2)\n",
    "    for i in range(4):\n",
    "        line_idx = df[(df['Block'] == b2) & (df['Week Number'] == week_num[i])].index\n",
    "        new_bed[line_idx[0]] = bed[i]\n",
    "\n",
    "df_rearrange['Beds'] = new_bed"
   ]
  },
  {
   "cell_type": "code",
   "execution_count": 103,
   "id": "c1f6e6c6-8cf5-4d70-8907-10ddfbb06617",
   "metadata": {},
   "outputs": [
    {
     "data": {
      "image/png": "[encoded data removed]",
      "text/plain": [
       "<Figure size 800x800 with 1 Axes>"
      ]
     },
     "metadata": {},
     "output_type": "display_data"
    }
   ],
   "source": [
    "week = 4\n",
    "weekn = df['Week Number'] == week\n",
    "weekn\n",
    "df_weekn = df[weekn]\n",
    "df_weekn\n",
    "\n",
    "weekday_daycount = []\n",
    "for d in range(1, 8):\n",
    "    day_count = df_weekn[df_weekn['Weekday'] == d]['Beds'].sum()\n",
    "    weekday_daycount.append(day_count)\n",
    "\n",
    "weekday_daycount\n",
    "\n",
    "weekn_re = df_rearrange['Week Number'] == week\n",
    "df_weekn_re = df_rearrange[weekn_re]\n",
    "\n",
    "weekday_daycount_re = []\n",
    "for d in range(1, 8):\n",
    "    day_count = df_weekn_re[df_weekn_re['Weekday'] == d]['Beds'].sum()\n",
    "    weekday_daycount_re.append(day_count)\n",
    "\n",
    "\n",
    "\n",
    "# Define labels for better readability\n",
    "day_labels = [\"Monday\", \"Tuesday\", \"Wednesday\", \"Thursday\", \"Friday\", \"Saturday\", \"Sunday\"]\n",
    "\n",
    "# Count occurrences of each day\n",
    "day_counts = weekday_daycount\n",
    "day_counts_re = weekday_daycount_re\n",
    "\n",
    "# Plot using Matplotlib\n",
    "plt.figure(figsize=(8, 8))\n",
    "plt.plot(range(7), day_counts, label='Current census')\n",
    "plt.plot(range(7), day_counts_re, label='Permuted census')\n",
    "\n",
    "# Set labels\n",
    "plt.xticks(ticks=range(7), labels=day_labels, rotation=45)\n",
    "plt.xlabel(\"Day of the Week\")\n",
    "plt.ylabel(\"Beds\")\n",
    "plt.ylim(250, 350)\n",
    "plt.legend()\n",
    "\n",
    "# Show plot\n",
    "plt.show()"
   ]
  },
  {
   "cell_type": "code",
   "execution_count": 110,
   "id": "7ff2e4ca-36c7-4893-ae66-aba505514bf5",
   "metadata": {},
   "outputs": [
    {
     "data": {
      "image/png": "[encoded data removed]",
      "text/plain": [
       "<Figure size 800x800 with 1 Axes>"
      ]
     },
     "metadata": {},
     "output_type": "display_data"
    }
   ],
   "source": [
    "# colculate daycount for each weekn\n",
    "weekday_daycount_mat = np.zeros((4,7))\n",
    "weekday_daycount_re_mat = np.zeros((4,7))\n",
    "\n",
    "for week in range(1,5):\n",
    "    weekn = df['Week Number'] == week\n",
    "    df_weekn = df[weekn]\n",
    "    \n",
    "    weekday_daycount = []\n",
    "    for d in range(1, 8):\n",
    "        day_count = df_weekn[df_weekn['Weekday'] == d]['Beds'].sum()\n",
    "        weekday_daycount.append(day_count)\n",
    "    \n",
    "    weekday_daycount_mat[week-1,:] = weekday_daycount\n",
    "    \n",
    "    weekn_re = df_rearrange['Week Number'] == week\n",
    "    df_weekn_re = df_rearrange[weekn_re]\n",
    "    \n",
    "    weekday_daycount_re = []\n",
    "    for d in range(1, 8):\n",
    "        day_count = df_weekn_re[df_weekn_re['Weekday'] == d]['Beds'].sum()\n",
    "        weekday_daycount_re.append(day_count)\n",
    "\n",
    "    weekday_daycount_re_mat[week-1,:] = weekday_daycount_re\n",
    "\n",
    "weekday_daycount_avg = np.zeros(7)\n",
    "weekday_daycount_re_avg = np.zeros(7)\n",
    "\n",
    "for weekday in range(7):\n",
    "    weekday_daycount_avg[weekday] = weekday_daycount_mat[:,weekday].mean()\n",
    "    weekday_daycount_re_avg[weekday] = weekday_daycount_re_mat[:,weekday].mean()\n",
    "    \n",
    "\n",
    "# Define labels for better readability\n",
    "day_labels = [\"Monday\", \"Tuesday\", \"Wednesday\", \"Thursday\", \"Friday\", \"Saturday\", \"Sunday\"]\n",
    "\n",
    "# Count occurrences of each day\n",
    "day_counts = weekday_daycount_avg\n",
    "day_counts_re = weekday_daycount_re_avg\n",
    "\n",
    "# Plot using Matplotlib\n",
    "plt.figure(figsize=(8, 8))\n",
    "plt.plot(range(7), day_counts, label='Current census')\n",
    "plt.plot(range(7), day_counts_re, label='Permuted census')\n",
    "\n",
    "# Set labels\n",
    "plt.xticks(ticks=range(7), labels=day_labels, rotation=45)\n",
    "plt.xlabel(\"Day of the Week\")\n",
    "plt.ylabel(\"Beds\")\n",
    "plt.ylim(250, 350)\n",
    "plt.legend()\n",
    "\n",
    "# Show plot\n",
    "plt.show()"
   ]
  },
  {
   "cell_type": "code",
   "execution_count": 109,
   "id": "f479af61-03e4-4b63-a9e8-58e2e84ff7f5",
   "metadata": {},
   "outputs": [
    {
     "name": "stdout",
     "output_type": "stream",
     "text": [
      "[311.   327.   335.5  331.25 323.   289.   278.  ]\n",
      "[314.75 313.   313.5  312.25 313.5  313.   314.75]\n"
     ]
    }
   ],
   "source": [
    "print(weekday_daycount_avg)\n",
    "print(weekday_daycount_re_avg)"
   ]
  },
  {
   "cell_type": "code",
   "execution_count": 105,
   "id": "775c62b7-6cf1-4b37-a73a-f18f5f48002d",
   "metadata": {},
   "outputs": [
    {
     "data": {
      "text/plain": [
       "array([[0., 0., 0., 0., 0., 0., 0.],\n",
       "       [0., 0., 0., 0., 0., 0., 0.],\n",
       "       [0., 0., 0., 0., 0., 0., 0.],\n",
       "       [0., 0., 0., 0., 0., 0., 0.]])"
      ]
     },
     "execution_count": 105,
     "metadata": {},
     "output_type": "execute_result"
    }
   ],
   "source": [
    "a = np.zeros((4,7))\n",
    "a"
   ]
  },
  {
   "cell_type": "code",
   "execution_count": 1,
   "id": "07847815-dd98-4f16-93fc-aede20cff34d",
   "metadata": {},
   "outputs": [
    {
     "name": "stdout",
     "output_type": "stream",
     "text": [
      "[5, 1, 2, 3, 4]\n"
     ]
    }
   ],
   "source": [
    "my_list = [1, 2, 3, 4, 5]\n",
    "my_list = [my_list[-1]] + my_list[:-1]\n",
    "print(my_list)\n"
   ]
  },
  {
   "cell_type": "code",
   "execution_count": null,
   "id": "c51def33",
   "metadata": {},
   "outputs": [],
   "source": []
  }
 ],
 "metadata": {
  "kernelspec": {
   "display_name": "gurobi",
   "language": "python",
   "name": "python3"
  },
  "language_info": {
   "codemirror_mode": {
    "name": "ipython",
    "version": 3
   },
   "file_extension": ".py",
   "mimetype": "text/x-python",
   "name": "python",
   "nbconvert_exporter": "python",
   "pygments_lexer": "ipython3",
   "version": "3.12.7"
  }
 },
 "nbformat": 4,
 "nbformat_minor": 5
}
